{
 "cells": [
  {
   "cell_type": "markdown",
   "id": "70ba0084-24cd-4af8-907a-e6447ee5a369",
   "metadata": {},
   "source": [
    "# Module 2: Read Data and Detect Objects\n",
    "Read GeoTIFF data and perform object detection using K-Means clustering.\n",
    "\n",
    "Package installation requirements:\n",
    "- Matplotlib (`matplotlib`): https://pypi.org/project/matplotlib/\n",
    "- NumPy (`numpy`): https://pypi.org/project/numpy/\n",
    "- Rasterio (`rasterio`): https://pypi.org/project/rasterio/\n",
    "- SciKit Learn (`scikit-learn`): https://pypi.org/project/scikit-learn/\n",
    "- Xarray (`xarray`): https://pypi.org/project/xarray/0.8.0rc1/\n",
    "- Rasterio Xarray Extension (`rioxarray`): https://pypi.org/project/rioxarray/"
   ]
  },
  {
   "cell_type": "markdown",
   "id": "9fe318fa-7835-4e94-b69f-54ad8d2b7393",
   "metadata": {},
   "source": [
    "***\n",
    "## User Input\n",
    "Define the key inputs for the module here:\n",
    "1. Path to the dataset.\n",
    "2. K-means clustering details."
   ]
  },
  {
   "cell_type": "markdown",
   "id": "c01bad93-de09-4c13-87a9-140403ef437a",
   "metadata": {},
   "source": [
    "### Path to Data"
   ]
  },
  {
   "cell_type": "code",
   "execution_count": null,
   "id": "372f9ec8-e4d2-4e11-aa07-81d56e2f3ab9",
   "metadata": {},
   "outputs": [],
   "source": [
    "# define the path to the tiff output data from module 1 (or tiffs defined elsewhere)\n",
    "try:\n",
    "    req_id\n",
    "except NameError:\n",
    "    var_exists = False\n",
    "    path_to_tiff = ''\n",
    "else:\n",
    "    var_exists = True\n",
    "\n",
    "if var_exists:\n",
    "    print('Found request ID generated from Module 1: '+req_id)\n",
    "    path_to_tiff = f\n",
    "else:\n",
    "    if path_to_tiff == '':\n",
    "        path_to_tiff = input('Please define the path to the GeoTIFF:')\n",
    "    else:\n",
    "        print('Path to GeoTIFF has been defined.')"
   ]
  },
  {
   "cell_type": "markdown",
   "id": "6d5a9029-18d5-41da-90ff-dc9907c4c6e6",
   "metadata": {},
   "source": [
    "### K-Means Setup\n",
    "The number of clusters used for the K-means clustering are defined here, separately for clustering across the normalised difference vegetation index (NDVI) and the floating debris index (FDI)."
   ]
  },
  {
   "cell_type": "code",
   "execution_count": null,
   "id": "4fffa744-9d32-4ef2-aed2-eacd6640c410",
   "metadata": {},
   "outputs": [],
   "source": [
    "# define the number of clusters for the K-means algorithm\n",
    "n_clusters_ndvi = 3\n",
    "n_clusters_fdi = 3"
   ]
  },
  {
   "cell_type": "markdown",
   "id": "ddef1eec-479f-4fad-8ca4-46b898ab38d5",
   "metadata": {},
   "source": [
    "***\n",
    "## Load Packages and Define Functions"
   ]
  },
  {
   "cell_type": "code",
   "execution_count": null,
   "id": "94af57f7-9196-414b-8a9c-249d9422b79a",
   "metadata": {},
   "outputs": [],
   "source": [
    "import rasterio\n",
    "import matplotlib.pyplot as plt\n",
    "import numpy as np\n",
    "from rasterio.plot import show, show_hist\n",
    "import xarray as xr\n",
    "import rioxarray\n",
    "from sklearn.cluster import KMeans"
   ]
  },
  {
   "cell_type": "markdown",
   "id": "7f349e38-c9b8-44fc-8998-ead454feb711",
   "metadata": {},
   "source": [
    "## Load Data"
   ]
  },
  {
   "cell_type": "code",
   "execution_count": null,
   "id": "a82fde4a-491d-4a1b-8cca-e657badb0e52",
   "metadata": {},
   "outputs": [],
   "source": [
    "# open tiff with rasterio\n",
    "data = rasterio.open(path_to_tiff)\n",
    "xda = rioxarray.open_rasterio(path_to_tiff)\n",
    "print('GeoTIFF opened, '+str(len(xda.band))+' bands found.')\n",
    "xda"
   ]
  },
  {
   "cell_type": "code",
   "execution_count": null,
   "id": "5e9bd48c-e9b6-4420-802b-6905979378e0",
   "metadata": {},
   "outputs": [],
   "source": [
    "# key dataset details\n",
    "print(xda.rio.crs) # coordinate reference system\n",
    "print(xda.rio.nodata) # nodata values\n",
    "print(xda.rio.bounds()) # lat/lon bounds\n",
    "print(xda.rio.width) # width of the image\n",
    "print(xda.rio.height) # height of the image"
   ]
  },
  {
   "cell_type": "code",
   "execution_count": null,
   "id": "cf84b292-2ffc-4794-ba88-3c0be62eec49",
   "metadata": {},
   "outputs": [],
   "source": [
    "# define the relevant Sentinel-2 bands\n",
    "BLU = xda.data[1] # blue band (B02)\n",
    "GRN = xda.data[2] # green band (B03)\n",
    "RED = xda.data[3] # red band (B04)\n",
    "RE2 = xda.data[5] # second red edge band (B06)\n",
    "NIR = xda.data[7] # near infrared (NIR) band (B08)\n",
    "SWIR1 = xda.data[11] # first short wave infrared (SWIR) band (B11)\n",
    "SWIR2 = xda.data[12] # second short wave infrared (SWIR) band (B12)\n",
    "\n",
    "# define the spatial extent\n",
    "lon = xda.x.data\n",
    "lat = xda.y.data\n",
    "extent = [np.min(lon), np.max(lon), np.max(lat), np.min(lat)]\n",
    "\n",
    "# plot example RGB data\n",
    "fig, ax = plt.subplots(1,3, figsize=(21,7))\n",
    "cols = ('Blues', 'Greens', 'Reds') # colour maps for plotting\n",
    "for i in np.arange(1,4):\n",
    "    plt.subplot(1,3,i) \n",
    "    plt.imshow(xda.data[i], cmap=cols[i-1], extent=extent) # plot the appropriate band\n",
    "    plt.title(cols[i-1][:-1]+' channel')"
   ]
  },
  {
   "cell_type": "markdown",
   "id": "8ec85331-6ab9-4d40-a0a3-08699d06c639",
   "metadata": {},
   "source": [
    "## K-Means Clustering (NDVI)\n",
    "Clustering across the normalised difference vegetation index (NDVI)."
   ]
  },
  {
   "cell_type": "code",
   "execution_count": null,
   "id": "cf76be67-0d96-40e1-8e60-40ef5bf696b1",
   "metadata": {},
   "outputs": [],
   "source": [
    "ndvi = (NIR-RED)/(NIR+RED) # normalised difference vegetation index (NDVI)\n",
    "ndvi_clust = ndvi.reshape((-1, 1)) # reshape to allow clustering\n",
    "\n",
    "# check for nodata\n",
    "nd = np.isnan(ndvi)\n",
    "ndvi[nd] = np.nanmean(ndvi) # rough mean filter to allow for K-means clustering\n",
    "\n",
    "# perform K-means clustering\n",
    "kmeans_ndvi = KMeans(n_clusters=n_clusters_ndvi)\n",
    "kmeans_ndvi.fit(ndvi_clust)\n",
    "centroids_ndvi = kmeans_ndvi.cluster_centers_\n",
    "labels_ndvi = kmeans_ndvi.labels_\n",
    "\n",
    "# reshape output data for plotting\n",
    "debris_ndvi = np.choose(labels_ndvi, centroids_ndvi)\n",
    "debris_ndvi.shape = ndvi.shape\n",
    "labels_ndvi.shape = ndvi.shape\n",
    "\n",
    "# plot results\n",
    "fig, ax = plt.subplots(figsize=(8,8))\n",
    "ax.set_title('NDVI Classification')\n",
    "pos = ax.imshow(labels_ndvi, cmap=plt.get_cmap('viridis', n_clusters_ndvi), extent=extent)\n",
    "cbar = fig.colorbar(pos, ticks=np.arange(0,n_clusters_ndvi), orientation='horizontal')\n",
    "cbar.ax.set_xticklabels(['0','1','2'])  # horizontal colourbar\n",
    "cbar.ax.set_xlabel('Cluster Number')\n",
    "plt.ylabel('Latitude [degrees]')\n",
    "plt.xlabel('Longitude [degrees]')\n",
    "plt.show()"
   ]
  },
  {
   "cell_type": "markdown",
   "id": "56906bc9-6a30-4a65-b75a-c8effd96cc51",
   "metadata": {},
   "source": [
    "## K-Means Clustering (FDI)\n",
    "Clustering across the floating debris index (FDI), which is defined in: Biermann, L., Clewley, D., Martinez-Vicente, V., and Topouzelis, K. (2020). Finding Plastic Patches in Coastal Waters using Optical Satellite Data. *Nature: Scientific Reports*, 10:5364. https://doi.org/10.1038/s41598-020-62298-z"
   ]
  },
  {
   "cell_type": "code",
   "execution_count": null,
   "id": "e83a80a7-17dd-4c2b-98cf-e09b9f480db8",
   "metadata": {},
   "outputs": [],
   "source": [
    "NIRprime = RE2+(SWIR1-RE2)*((833-665)/(1610.4-665))*10\n",
    "fdi = NIR-NIRprime # floating debris index (FDI)\n",
    "fdi_clust = fdi.reshape((-1, 1)) # reshape to allow clustering\n",
    "\n",
    "# check for nodata\n",
    "nd = np.isnan(fdi)\n",
    "fdi[nd] = np.nanmean(fdi) # rough mean filter to allow for K-means clustering\n",
    "\n",
    "# perform K-means clustering\n",
    "kmeans_fdi = KMeans(n_clusters=n_clusters_fdi)\n",
    "kmeans_fdi.fit(fdi_clust)\n",
    "centroids_fdi = kmeans_fdi.cluster_centers_\n",
    "labels_fdi = kmeans_fdi.labels_\n",
    "\n",
    "# reshape output data for plotting\n",
    "debris_fdi = np.choose(labels_fdi, centroids_fdi)\n",
    "debris_fdi.shape = fdi.shape\n",
    "labels_fdi.shape = fdi.shape\n",
    "\n",
    "# plot results\n",
    "fig, ax = plt.subplots(figsize=(8,8))\n",
    "ax.set_title('FDI Classification')\n",
    "pos = ax.imshow(labels_fdi, cmap=plt.get_cmap('viridis', n_clusters_fdi), extent=extent)\n",
    "cbar = fig.colorbar(pos, ticks=np.arange(0,n_clusters_fdi), orientation='horizontal')\n",
    "cbar.ax.set_xticklabels(['0','1','2'])  # horizontal colorbar\n",
    "plt.ylabel('Latitude [degrees]')\n",
    "plt.xlabel('Longitude [degrees]')\n",
    "cbar.ax.set_xlabel('Cluster Number')\n",
    "plt.show()"
   ]
  },
  {
   "cell_type": "markdown",
   "id": "a216caa9-2973-476e-9cff-605a0b3e2f3c",
   "metadata": {},
   "source": [
    "## Overlap NDVI-FDI Results\n",
    "Produce a map that shows the areas that are defined in **both** the NDVI and FDI clustering approaches."
   ]
  },
  {
   "cell_type": "code",
   "execution_count": null,
   "id": "eaa9182a-dfc9-419f-ab2d-234aa4fb7566",
   "metadata": {},
   "outputs": [],
   "source": [
    "# define the clusters to select for analysis\n",
    "ndvi_clust = 1\n",
    "fdi_clust = 2"
   ]
  },
  {
   "cell_type": "code",
   "execution_count": null,
   "id": "7cd11406-2e99-4792-b9ac-6be0867da01b",
   "metadata": {},
   "outputs": [],
   "source": [
    "res_fdi = labels_fdi.reshape((-1, 1))\n",
    "res_ndvi = labels_ndvi.reshape((-1, 1))\n",
    "\n",
    "# reassign pixels\n",
    "res = np.zeros(len(res_fdi),)\n",
    "for i in range(len(res_fdi)):\n",
    "    if res_fdi[i] == fdi_clust:\n",
    "        if res_ndvi[i] == ndvi_clust:\n",
    "            res[i] = 1\n",
    "        else:\n",
    "            res[i] = 0\n",
    "    else:\n",
    "        res[i] = 0\n",
    "\n",
    "res.shape = fdi.shape"
   ]
  },
  {
   "cell_type": "code",
   "execution_count": null,
   "id": "75f1b553-bd21-48fc-a9f8-f2c20c26e7a5",
   "metadata": {},
   "outputs": [],
   "source": [
    "fig, ax = plt.subplots(figsize=(8,8))\n",
    "ax.set_title('Combined Classification of Floating Objects')\n",
    "pos = ax.imshow(res, cmap=plt.get_cmap('Greys', 2), extent=extent)\n",
    "cbar = fig.colorbar(pos, ticks=[0,1], orientation='horizontal')\n",
    "cbar.ax.set_xticklabels(['Not Debris', 'Debris'])  # horizontal colorbar\n",
    "plt.ylabel('Latitude [degrees]')\n",
    "plt.xlabel('Longitude [degrees]')\n",
    "cbar.ax.set_xlabel('Classification')\n",
    "plt.show()"
   ]
  },
  {
   "cell_type": "markdown",
   "id": "5a3ca56f-58fb-4833-8e5d-94db0e5e4224",
   "metadata": {},
   "source": [
    "## Mask Land"
   ]
  },
  {
   "cell_type": "code",
   "execution_count": null,
   "id": "e63272f2-b415-47e3-a58a-3465feca242d",
   "metadata": {},
   "outputs": [],
   "source": [
    "land = np.greater(SWIR1,BLU)\n",
    "res[land] = \"NaN\"\n",
    "\n",
    "fig, ax = plt.subplots(figsize=(8,8))\n",
    "ax.set_title('Combined Classification of Floating Objects')\n",
    "pos = ax.imshow(res, cmap=plt.get_cmap('Greys', 2), extent=extent)\n",
    "cbar = fig.colorbar(pos, ticks=[0,1], orientation='horizontal')\n",
    "cbar.ax.set_xticklabels(['Not Debris', 'Debris'])  # horizontal colorbar\n",
    "plt.ylabel('Latitude [degrees]')\n",
    "plt.xlabel('Longitude [degrees]')\n",
    "cbar.ax.set_xlabel('Classification')\n",
    "plt.show()"
   ]
  },
  {
   "cell_type": "markdown",
   "id": "7fdde6b0-6eb5-4fa8-8f27-826464aa5fd9",
   "metadata": {},
   "source": [
    "## Export Classification Raster"
   ]
  },
  {
   "cell_type": "code",
   "execution_count": null,
   "id": "1c31e4ae-afb5-4868-b25a-a7d9983b13fd",
   "metadata": {},
   "outputs": [],
   "source": [
    "# export raster\n",
    "with rasterio.open(r'C:\\Users\\uqdcowl2\\DATA\\OHW24_ocean_object_detection\\classified.tiff', \n",
    "                   'w',driver='GTiff',height=res.shape[0],width=res.shape[1],\n",
    "                   count=1,dtype=res.dtype,crs=xda.rio.crs,nodata=\"NaN\",transform=data.transform) as dst:dst.write(res, 1)"
   ]
  }
 ],
 "metadata": {
  "kernelspec": {
   "display_name": "Python 3 (ipykernel)",
   "language": "python",
   "name": "python3"
  },
  "language_info": {
   "codemirror_mode": {
    "name": "ipython",
    "version": 3
   },
   "file_extension": ".py",
   "mimetype": "text/x-python",
   "name": "python",
   "nbconvert_exporter": "python",
   "pygments_lexer": "ipython3",
   "version": "3.12.3"
  }
 },
 "nbformat": 4,
 "nbformat_minor": 5
}
