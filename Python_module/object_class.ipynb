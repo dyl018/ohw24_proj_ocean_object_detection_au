{
 "cells": [
  {
   "cell_type": "markdown",
   "id": "b32082f3-6f3a-4c0f-8852-6ed5a51ca6c5",
   "metadata": {},
   "source": [
    "# Module 1: ROI Definition and Imagery Acquisition\n",
    "Define the region of interest (ROI), setup data access to Copernicus, and download the relevant imagery.\n",
    "\n",
    "1. SentinelHub must be installed: https://sentinelhub-py.readthedocs.io/en/latest/install.html\n",
    "2. Access must be provided to the Copernicus Data Space Ecosystem (CDSE): https://documentation.dataspace.copernicus.eu/APIs/SentinelHub/Overview/Authentication.html\n",
    "\n",
    "See Sentinel Hub Process API instructions for more details (https://sentinelhub-py.readthedocs.io/en/latest/examples/process_request_cdse.html#Credentials).v>\n",
    "\n",
    "Package installation requirements:\n",
    "- Matplotlib (`matplotlib`): https://pypi.org/project/matplotlib/\n",
    "- NumPy (`numpy`): https://pypi.org/project/numpy/\n",
    "- SentinelHub (`sentinelhub`): https://pypi.org/project/sentinelhub/"
   ]
  },
  {
   "cell_type": "markdown",
   "id": "ef742efb-e3db-474e-b67d-6de538f90460",
   "metadata": {},
   "source": [
    "***\n",
    "## User Input\n",
    "Define the key inputs for the module here:\n",
    "1. Region of interest (ROI) by defining minimum/maximum decimal latitude/longitude.\n",
    "2. Start and end time in the format: yyyy-mm-dd\n",
    "3. Data output location.\n",
    "4. Data access credentials."
   ]
  },
  {
   "cell_type": "markdown",
   "id": "98266578-6985-4057-81d2-7100cc8823ec",
   "metadata": {},
   "source": [
    "### Spatial/Temporal Extent"
   ]
  },
  {
   "cell_type": "code",
   "execution_count": null,
   "id": "0614e7db-b85e-4ffc-b0d2-d8b1b1f1cb83",
   "metadata": {},
   "outputs": [],
   "source": [
    "# decimal latitude and longitude extents\n",
    "# accra example\n",
    "latmin = 5.4219\n",
    "latmax = 5.5504\n",
    "lonmin = -0.3547\n",
    "lonmax = -0.1933\n",
    "\n",
    "# start and end times in yyyy-mm-dd format\n",
    "start_date = \"2018-10-31\" \n",
    "end_date = \"2018-11-01\""
   ]
  },
  {
   "cell_type": "markdown",
   "id": "2e700bbf-51eb-4866-b573-6150c3c77d8a",
   "metadata": {},
   "source": [
    "### Data Output Location"
   ]
  },
  {
   "cell_type": "code",
   "execution_count": null,
   "id": "5b45df67-b41c-4a38-a926-72707ce8e9d7",
   "metadata": {},
   "outputs": [],
   "source": [
    "# define output location for the generated .tiff\n",
    "output_folder = ''\n",
    "output_name = 'test' #output file name"
   ]
  },
  {
   "cell_type": "markdown",
   "id": "5171cbe3-1c72-4e0c-8335-a3724bb50107",
   "metadata": {},
   "source": [
    "### Define CDSE Credentials\n",
    "The **client ID** and **client secret** must be defined here to allow acces to the CDSE database. To do this, an OAuth client must be registered via the Sentinel Hub services dashboard (https://shapps.dataspace.copernicus.eu/dashboard/#/) to grant remote access to Copernicus. <br><br>For full instructions, visit: https://documentation.dataspace.copernicus.eu/APIs/SentinelHub/Overview/Authentication.html.\n",
    "<br><br>\n",
    "Provide the **client ID** and **client secret** as above. The **instance ID** is a string to describe the name of the authentication instance, which can be any relatively short string. The authentication profile can also be given a name to save for use later."
   ]
  },
  {
   "cell_type": "code",
   "execution_count": null,
   "id": "8c6c6937-e1ac-44a5-8a6a-5774e2f7d56a",
   "metadata": {},
   "outputs": [],
   "source": [
    "client_id = ''\n",
    "client_secret = ''\n",
    "instance_id = 'sentinelhub_cid'\n",
    "profile_name = 'test-profile'"
   ]
  },
  {
   "cell_type": "markdown",
   "id": "cdf5f798-44da-40c3-9bc8-c6ce93da7e9a",
   "metadata": {},
   "source": [
    "***"
   ]
  },
  {
   "cell_type": "markdown",
   "id": "9f0c0913-8588-4648-9731-45f32c8c1d25",
   "metadata": {},
   "source": [
    "## Load Packages and Define Functions"
   ]
  },
  {
   "cell_type": "code",
   "execution_count": null,
   "id": "0f3e1c6b-5759-469e-a0ee-74fc8544dd27",
   "metadata": {},
   "outputs": [],
   "source": [
    "from sentinelhub import WebFeatureService\n",
    "from sentinelhub import (\n",
    "    CRS, \n",
    "    BBox, \n",
    "    DataCollection, \n",
    "    SHConfig, \n",
    "    DownloadRequest,\n",
    "    MimeType, \n",
    "    MosaickingOrder, \n",
    "    SentinelHubDownloadClient,\n",
    "    SentinelHubRequest,\n",
    "    bbox_to_dimensions\n",
    ")\n",
    "import matplotlib.pyplot as plt\n",
    "import numpy as np\n",
    "from typing import Any\n",
    "import os"
   ]
  },
  {
   "cell_type": "code",
   "execution_count": null,
   "id": "76fa87e4-0fd3-4f87-8ee3-9d8f78b93489",
   "metadata": {},
   "outputs": [],
   "source": [
    "# define image plotting function to display acquired imagery (from https://sentinelhub-py.readthedocs.io/en/latest/index.html)\n",
    "def plot_image(\n",
    "    image: np.ndarray, factor: float = 1.0, clip_range: tuple[float, float] | None = None, **kwargs: Any\n",
    ") -> None:\n",
    "    _, ax = plt.subplots(nrows=1, ncols=1, figsize=(15, 15))\n",
    "    if clip_range is not None:\n",
    "        ax.imshow(np.clip(image * factor, *clip_range), **kwargs)\n",
    "    else:\n",
    "        ax.imshow(image * factor, **kwargs)\n",
    "    ax.set_xticks([])\n",
    "    ax.set_yticks([])"
   ]
  },
  {
   "cell_type": "markdown",
   "id": "7d04cd70-ee90-4b59-9a67-d73ce5231794",
   "metadata": {},
   "source": [
    "## Construct Config File"
   ]
  },
  {
   "cell_type": "code",
   "execution_count": null,
   "id": "2913c2fe-a0f7-47fe-aedc-7ad1f849bd81",
   "metadata": {},
   "outputs": [],
   "source": [
    "# define Copernicus Data Space Ecosystem (CDSE) profile\n",
    "config = SHConfig()\n",
    "config.sh_client_id = client_id\n",
    "config.sh_client_secret = client_secret\n",
    "config.sh_base_url = 'https://sh.dataspace.copernicus.eu'\n",
    "config.sh_token_url = 'https://identity.dataspace.copernicus.eu/auth/realms/CDSE/protocol/openid-connect/token'\n",
    "config.instance_id = instance_id\n",
    "config.save(profile_name)\n",
    "\n",
    "SHConfig.get_config_location()\n",
    "\n",
    "print(config)"
   ]
  },
  {
   "cell_type": "markdown",
   "id": "754b4631-0b14-4700-a342-f47a1711dccf",
   "metadata": {},
   "source": [
    "## Setup ROI and Time Range\n",
    "The ROI is defined using a bounding box, providing min/max extent for latitude and longitude as in the **User Input** section for Module 1."
   ]
  },
  {
   "cell_type": "code",
   "execution_count": null,
   "id": "0ceb20be-4b63-4026-be3f-cf6e6e4b441b",
   "metadata": {},
   "outputs": [],
   "source": [
    "req_coords_wgs84 = (lonmin, latmin, lonmax, latmax)\n",
    "resolution = 10\n",
    "req_bbox = BBox(bbox=req_coords_wgs84, crs=CRS.WGS84)\n",
    "req_size = bbox_to_dimensions(req_bbox, resolution=resolution)\n",
    "\n",
    "print(f\"Image shape at {resolution} m resolution: {req_size} pixels\")"
   ]
  },
  {
   "cell_type": "markdown",
   "id": "82714cff-53de-4542-8099-6648632d677f",
   "metadata": {},
   "source": [
    "## Download and Display True Colour Image at ROI\n",
    "The true colour image that covers the ROI is displayed here, for Sentinel-2 level 2A data."
   ]
  },
  {
   "cell_type": "code",
   "execution_count": null,
   "id": "b7a12f6d-8ce2-4af6-bd5e-ac74bab5c0b1",
   "metadata": {},
   "outputs": [],
   "source": [
    "# image acquisition script (from https://sentinelhub-py.readthedocs.io/en/latest/examples/process_request_cdse.html#Credentials)\n",
    "evalscript_true_color = \"\"\"\n",
    "    //VERSION=3\n",
    "\n",
    "    function setup() {\n",
    "        return {\n",
    "            input: [{\n",
    "                bands: [\"B02\", \"B03\", \"B04\"]\n",
    "            }],\n",
    "            output: {\n",
    "                bands: 3\n",
    "            }\n",
    "        };\n",
    "    }\n",
    "\n",
    "    function evaluatePixel(sample) {\n",
    "        return [sample.B04, sample.B03, sample.B02];\n",
    "    }\n",
    "\"\"\"\n",
    "\n",
    "request_true_color = SentinelHubRequest(\n",
    "    evalscript = evalscript_true_color,\n",
    "    input_data = [\n",
    "        SentinelHubRequest.input_data(\n",
    "            DataCollection.SENTINEL2_L2A.define_from(\"s2l2a\", service_url=config.sh_base_url),\n",
    "            time_interval=(start_date, end_date),\n",
    "        )\n",
    "    ],\n",
    "    responses = [SentinelHubRequest.output_response(\"default\", MimeType.PNG)],\n",
    "    bbox = req_bbox,\n",
    "    size = req_size,\n",
    "    config = config,\n",
    ")"
   ]
  },
  {
   "cell_type": "code",
   "execution_count": null,
   "id": "1cb9c298-ff90-4433-88e5-7e9fc0eed0ef",
   "metadata": {},
   "outputs": [],
   "source": [
    "%%time\n",
    "# request true colour image\n",
    "true_color_imgs = request_true_color.get_data()"
   ]
  },
  {
   "cell_type": "code",
   "execution_count": null,
   "id": "353b7ffd-2209-44e7-9afa-920d29401358",
   "metadata": {},
   "outputs": [],
   "source": [
    "image = true_color_imgs[0]\n",
    "\n",
    "# factor 1/255 to scale between 0-1\n",
    "# factor 3.5 to increase brightness\n",
    "plot_image(image, factor=3.5 / 255, clip_range=(0, 1))"
   ]
  },
  {
   "cell_type": "markdown",
   "id": "9a1f75d1-ed89-4bb6-8c71-ad713e1caaee",
   "metadata": {},
   "source": [
    "## Download and Display False Colour Image at ROI\n",
    "The false colour image that covers the ROI is displayed here, for Sentinel-2 level 2A data. The image is a mosaic of images collected over the specified date range."
   ]
  },
  {
   "cell_type": "code",
   "execution_count": null,
   "id": "e8432a65-dbc2-45d2-acc9-2ec7a0610ed7",
   "metadata": {},
   "outputs": [],
   "source": [
    "# image acquisition script (from https://sentinelhub-py.readthedocs.io/en/latest/examples/process_request_cdse.html#Credentials)\n",
    "evalscript_all_bands = \"\"\"\n",
    "    //VERSION=3\n",
    "    function setup() {\n",
    "        return {\n",
    "            input: [{\n",
    "                bands: [\"B01\",\"B02\",\"B03\",\"B04\",\"B05\",\"B06\",\"B07\",\"B08\",\"B8A\",\"B09\",\"B11\",\"B12\",\"SCL\"],\n",
    "                units: \"DN\"\n",
    "            }],\n",
    "            output: {\n",
    "                bands: 13,\n",
    "                sampleType: \"INT16\"\n",
    "            }\n",
    "        };\n",
    "    }\n",
    "\n",
    "    function evaluatePixel(sample) {\n",
    "        return [sample.B01,\n",
    "                sample.B02,\n",
    "                sample.B03,\n",
    "                sample.B04,\n",
    "                sample.B05,\n",
    "                sample.B06,\n",
    "                sample.B07,\n",
    "                sample.B08,\n",
    "                sample.B8A,\n",
    "                sample.B09,\n",
    "                sample.B11,\n",
    "                sample.B12,\n",
    "                sample.SCL];\n",
    "    }\n",
    "\"\"\"\n",
    "\n",
    "request_all_bands = SentinelHubRequest(\n",
    "    data_folder = output_folder,\n",
    "    evalscript = evalscript_all_bands,\n",
    "    input_data = [\n",
    "        SentinelHubRequest.input_data(\n",
    "            data_collection=DataCollection.SENTINEL2_L2A.define_from(\"s2l2a\", service_url=config.sh_base_url),\n",
    "            time_interval=(start_date, end_date),\n",
    "            mosaicking_order=MosaickingOrder.LEAST_CC,\n",
    "        )\n",
    "    ],\n",
    "    responses = [SentinelHubRequest.output_response(\"default\", MimeType.TIFF)],\n",
    "    bbox = req_bbox,\n",
    "    size = req_size,\n",
    "    config = config,\n",
    ")"
   ]
  },
  {
   "cell_type": "code",
   "execution_count": null,
   "id": "0b032b17-4665-4096-a8bf-0576b7b8b808",
   "metadata": {},
   "outputs": [],
   "source": [
    "%%time\n",
    "# request imagery with all bands\n",
    "all_bands_response = request_all_bands.get_data()"
   ]
  },
  {
   "cell_type": "code",
   "execution_count": null,
   "id": "71a042aa-2f59-44d4-9c8d-dece2b0e9144",
   "metadata": {},
   "outputs": [],
   "source": [
    "# plot false colour image using bands B03, B04, and B08\n",
    "plot_image(all_bands_response[0][:, :, [2, 3, 7]], factor=3.5/1e4, clip_range=(0, 1))"
   ]
  },
  {
   "cell_type": "markdown",
   "id": "017b9821-b610-4589-8416-bced69819aab",
   "metadata": {},
   "source": [
    "## Save Dataset\n",
    "Save the multispectral Sentinel-2 data as a GeoTIFF."
   ]
  },
  {
   "cell_type": "code",
   "execution_count": null,
   "id": "43241f1d-c1e1-4c0a-8f5e-6a6b508cd001",
   "metadata": {},
   "outputs": [],
   "source": [
    "%%time\n",
    "request_all_bands.save_data()\n",
    "\n",
    "for folder, _, filenames in os.walk(request_all_bands.data_folder):\n",
    "    for filename in filenames:\n",
    "        f = os.path.join(folder, filename)\n",
    "        comp = f.split('\\\\')\n",
    "        req_id = comp[-2] # request ID that is automatically generated\n",
    "\n",
    "print(\"Generated request ID: \"+req_id) # the request ID can be used to continue into Module 2"
   ]
  },
  {
   "cell_type": "markdown",
   "id": "70ba0084-24cd-4af8-907a-e6447ee5a369",
   "metadata": {},
   "source": [
    "***\n",
    "***\n",
    "# Module 2: Read Data and Detect Objects\n",
    "Read GeoTIFF data and perform object detection using K-Means clustering.\n",
    "\n",
    "Package installation requirements:\n",
    "- Matplotlib (`matplotlib`): https://pypi.org/project/matplotlib/\n",
    "- NumPy (`numpy`): https://pypi.org/project/numpy/\n",
    "- Rasterio (`rasterio`): https://pypi.org/project/rasterio/\n",
    "- SciKit Learn (`scikit-learn`): https://pypi.org/project/scikit-learn/\n",
    "- Xarray (`xarray`): https://pypi.org/project/xarray/0.8.0rc1/\n",
    "- Rasterio Xarray Extension (`rioxarray`): https://pypi.org/project/rioxarray/"
   ]
  },
  {
   "cell_type": "markdown",
   "id": "9fe318fa-7835-4e94-b69f-54ad8d2b7393",
   "metadata": {},
   "source": [
    "***\n",
    "## User Input\n",
    "Define the key inputs for the module here:\n",
    "1. Path to the dataset.\n",
    "2. K-means clustering details."
   ]
  },
  {
   "cell_type": "markdown",
   "id": "c01bad93-de09-4c13-87a9-140403ef437a",
   "metadata": {},
   "source": [
    "### Path to Data"
   ]
  },
  {
   "cell_type": "code",
   "execution_count": null,
   "id": "372f9ec8-e4d2-4e11-aa07-81d56e2f3ab9",
   "metadata": {},
   "outputs": [],
   "source": [
    "# define the path to the tiff output data from module 1 (or tiffs defined elsewhere)\n",
    "try:\n",
    "    req_id\n",
    "except NameError:\n",
    "    var_exists = False\n",
    "    path_to_tiff = ''\n",
    "else:\n",
    "    var_exists = True\n",
    "\n",
    "if var_exists:\n",
    "    print('Found request ID generated from Module 1: '+req_id)\n",
    "    path_to_tiff = f\n",
    "else:\n",
    "    if path_to_tiff == '':\n",
    "        path_to_tiff = input('Please define the path to the GeoTIFF:')\n",
    "    else:\n",
    "        print('Path to GeoTIFF has been defined.')"
   ]
  },
  {
   "cell_type": "markdown",
   "id": "6d5a9029-18d5-41da-90ff-dc9907c4c6e6",
   "metadata": {},
   "source": [
    "### K-Means Setup\n",
    "The number of clusters used for the K-means clustering are defined here, separately for clustering across the normalised difference vegetation index (NDVI) and the floating debris index (FDI)."
   ]
  },
  {
   "cell_type": "code",
   "execution_count": null,
   "id": "4fffa744-9d32-4ef2-aed2-eacd6640c410",
   "metadata": {},
   "outputs": [],
   "source": [
    "# define the number of clusters for the K-means algorithm\n",
    "n_clusters_ndvi = 3\n",
    "n_clusters_fdi = 3"
   ]
  },
  {
   "cell_type": "markdown",
   "id": "bd3745ec-9e10-4fde-a055-b5e24e4edd13",
   "metadata": {},
   "source": [
    "# Output Location"
   ]
  },
  {
   "cell_type": "code",
   "execution_count": null,
   "id": "94e2d8b9-8468-42aa-a50a-71a5c1223b5c",
   "metadata": {},
   "outputs": [],
   "source": [
    "output_folder = ''"
   ]
  },
  {
   "cell_type": "markdown",
   "id": "ddef1eec-479f-4fad-8ca4-46b898ab38d5",
   "metadata": {},
   "source": [
    "***\n",
    "## Load Packages and Define Functions"
   ]
  },
  {
   "cell_type": "code",
   "execution_count": null,
   "id": "94af57f7-9196-414b-8a9c-249d9422b79a",
   "metadata": {},
   "outputs": [],
   "source": [
    "import rasterio\n",
    "import matplotlib.pyplot as plt\n",
    "import numpy as np\n",
    "from rasterio.plot import show, show_hist\n",
    "import xarray as xr\n",
    "import rioxarray\n",
    "from sklearn.cluster import KMeans"
   ]
  },
  {
   "cell_type": "markdown",
   "id": "7f349e38-c9b8-44fc-8998-ead454feb711",
   "metadata": {},
   "source": [
    "## Load Data"
   ]
  },
  {
   "cell_type": "code",
   "execution_count": null,
   "id": "a82fde4a-491d-4a1b-8cca-e657badb0e52",
   "metadata": {},
   "outputs": [],
   "source": [
    "# open tiff with rasterio\n",
    "data = rasterio.open(path_to_tiff)\n",
    "xda = rioxarray.open_rasterio(path_to_tiff)\n",
    "print('GeoTIFF opened, '+str(len(xda.band))+' bands found.')\n",
    "xda"
   ]
  },
  {
   "cell_type": "code",
   "execution_count": null,
   "id": "5e9bd48c-e9b6-4420-802b-6905979378e0",
   "metadata": {},
   "outputs": [],
   "source": [
    "# key dataset details\n",
    "print(xda.rio.crs) # coordinate reference system\n",
    "print(xda.rio.nodata) # nodata values\n",
    "print(xda.rio.bounds()) # lat/lon bounds\n",
    "print(xda.rio.width) # width of the image\n",
    "print(xda.rio.height) # height of the image"
   ]
  },
  {
   "cell_type": "code",
   "execution_count": null,
   "id": "cf84b292-2ffc-4794-ba88-3c0be62eec49",
   "metadata": {},
   "outputs": [],
   "source": [
    "# define the relevant Sentinel-2 bands\n",
    "BLU = xda.data[1] # blue band (B02)\n",
    "GRN = xda.data[2] # green band (B03)\n",
    "RED = xda.data[3] # red band (B04)\n",
    "RE2 = xda.data[5] # second red edge band (B06)\n",
    "NIR = xda.data[7] # near infrared (NIR) band (B08)\n",
    "SWIR1 = xda.data[11] # first short wave infrared (SWIR) band (B11)\n",
    "SWIR2 = xda.data[12] # second short wave infrared (SWIR) band (B12)\n",
    "\n",
    "# define the spatial extent\n",
    "lon = xda.x.data\n",
    "lat = xda.y.data\n",
    "extent = [np.min(lon), np.max(lon), np.max(lat), np.min(lat)]\n",
    "\n",
    "# plot example RGB data\n",
    "fig, ax = plt.subplots(1,3, figsize=(21,7))\n",
    "cols = ('Blues', 'Greens', 'Reds') # colour maps for plotting\n",
    "for i in np.arange(1,4):\n",
    "    plt.subplot(1,3,i) \n",
    "    plt.imshow(xda.data[i], cmap=cols[i-1], extent=extent) # plot the appropriate band\n",
    "    plt.title(cols[i-1][:-1]+' channel')"
   ]
  },
  {
   "cell_type": "markdown",
   "id": "8ec85331-6ab9-4d40-a0a3-08699d06c639",
   "metadata": {},
   "source": [
    "## K-Means Clustering (NDVI)\n",
    "Clustering across the normalised difference vegetation index (NDVI)."
   ]
  },
  {
   "cell_type": "code",
   "execution_count": null,
   "id": "cf76be67-0d96-40e1-8e60-40ef5bf696b1",
   "metadata": {},
   "outputs": [],
   "source": [
    "ndvi = (NIR-RED)/(NIR+RED) # normalised difference vegetation index (NDVI)\n",
    "ndvi_clust = ndvi.reshape((-1, 1)) # reshape to allow clustering\n",
    "\n",
    "# check for nodata\n",
    "nd = np.isnan(ndvi)\n",
    "ndvi[nd] = np.nanmean(ndvi) # rough mean filter to allow for K-means clustering\n",
    "\n",
    "# perform K-means clustering\n",
    "kmeans_ndvi = KMeans(n_clusters=n_clusters_ndvi)\n",
    "kmeans_ndvi.fit(ndvi_clust)\n",
    "centroids_ndvi = kmeans_ndvi.cluster_centers_\n",
    "labels_ndvi = kmeans_ndvi.labels_\n",
    "\n",
    "# reshape output data for plotting\n",
    "debris_ndvi = np.choose(labels_ndvi, centroids_ndvi)\n",
    "debris_ndvi.shape = ndvi.shape\n",
    "labels_ndvi.shape = ndvi.shape\n",
    "\n",
    "# plot results\n",
    "fig, ax = plt.subplots(figsize=(8,8))\n",
    "ax.set_title('NDVI Classification')\n",
    "pos = ax.imshow(labels_ndvi, cmap=plt.get_cmap('viridis', n_clusters_ndvi), extent=extent)\n",
    "cbar = fig.colorbar(pos, ticks=np.arange(0,n_clusters_ndvi), orientation='horizontal')\n",
    "cbar.ax.set_xticklabels(['0','1','2'])  # horizontal colourbar\n",
    "cbar.ax.set_xlabel('Cluster Number')\n",
    "plt.ylabel('Latitude [degrees]')\n",
    "plt.xlabel('Longitude [degrees]')\n",
    "plt.show()"
   ]
  },
  {
   "cell_type": "markdown",
   "id": "56906bc9-6a30-4a65-b75a-c8effd96cc51",
   "metadata": {},
   "source": [
    "## K-Means Clustering (FDI)\n",
    "Clustering across the floating debris index (FDI), which is defined in: Biermann, L., Clewley, D., Martinez-Vicente, V., and Topouzelis, K. (2020). Finding Plastic Patches in Coastal Waters using Optical Satellite Data. *Nature: Scientific Reports*, 10:5364. https://doi.org/10.1038/s41598-020-62298-z"
   ]
  },
  {
   "cell_type": "code",
   "execution_count": null,
   "id": "e83a80a7-17dd-4c2b-98cf-e09b9f480db8",
   "metadata": {},
   "outputs": [],
   "source": [
    "NIRprime = RE2+(SWIR1-RE2)*((833-665)/(1610.4-665))*10\n",
    "fdi = NIR-NIRprime # floating debris index (FDI)\n",
    "fdi_clust = fdi.reshape((-1, 1)) # reshape to allow clustering\n",
    "\n",
    "# check for nodata\n",
    "nd = np.isnan(fdi)\n",
    "fdi[nd] = np.nanmean(fdi) # rough mean filter to allow for K-means clustering\n",
    "\n",
    "# perform K-means clustering\n",
    "kmeans_fdi = KMeans(n_clusters=n_clusters_fdi)\n",
    "kmeans_fdi.fit(fdi_clust)\n",
    "centroids_fdi = kmeans_fdi.cluster_centers_\n",
    "labels_fdi = kmeans_fdi.labels_\n",
    "\n",
    "# reshape output data for plotting\n",
    "debris_fdi = np.choose(labels_fdi, centroids_fdi)\n",
    "debris_fdi.shape = fdi.shape\n",
    "labels_fdi.shape = fdi.shape\n",
    "\n",
    "# plot results\n",
    "fig, ax = plt.subplots(figsize=(8,8))\n",
    "ax.set_title('FDI Classification')\n",
    "pos = ax.imshow(labels_fdi, cmap=plt.get_cmap('viridis', n_clusters_fdi), extent=extent)\n",
    "cbar = fig.colorbar(pos, ticks=np.arange(0,n_clusters_fdi), orientation='horizontal')\n",
    "cbar.ax.set_xticklabels(['0','1','2'])  # horizontal colorbar\n",
    "plt.ylabel('Latitude [degrees]')\n",
    "plt.xlabel('Longitude [degrees]')\n",
    "cbar.ax.set_xlabel('Cluster Number')\n",
    "plt.show()"
   ]
  },
  {
   "cell_type": "markdown",
   "id": "a216caa9-2973-476e-9cff-605a0b3e2f3c",
   "metadata": {},
   "source": [
    "## Overlap NDVI-FDI Results\n",
    "Produce a map that shows the areas that are defined in **both** the NDVI and FDI clustering approaches."
   ]
  },
  {
   "cell_type": "code",
   "execution_count": null,
   "id": "eaa9182a-dfc9-419f-ab2d-234aa4fb7566",
   "metadata": {},
   "outputs": [],
   "source": [
    "# define the clusters to select for analysis\n",
    "ndvi_clust = 1\n",
    "fdi_clust = 2"
   ]
  },
  {
   "cell_type": "code",
   "execution_count": null,
   "id": "7cd11406-2e99-4792-b9ac-6be0867da01b",
   "metadata": {},
   "outputs": [],
   "source": [
    "res_fdi = labels_fdi.reshape((-1, 1))\n",
    "res_ndvi = labels_ndvi.reshape((-1, 1))\n",
    "\n",
    "# reassign pixels\n",
    "res = np.zeros(len(res_fdi),)\n",
    "for i in range(len(res_fdi)):\n",
    "    if res_fdi[i] == fdi_clust:\n",
    "        if res_ndvi[i] == ndvi_clust:\n",
    "            res[i] = 1\n",
    "        else:\n",
    "            res[i] = 0\n",
    "    else:\n",
    "        res[i] = 0\n",
    "\n",
    "res.shape = fdi.shape"
   ]
  },
  {
   "cell_type": "code",
   "execution_count": null,
   "id": "75f1b553-bd21-48fc-a9f8-f2c20c26e7a5",
   "metadata": {},
   "outputs": [],
   "source": [
    "fig, ax = plt.subplots(figsize=(8,8))\n",
    "ax.set_title('Combined Classification of Floating Objects')\n",
    "pos = ax.imshow(res, cmap=plt.get_cmap('Greys', 2), extent=extent)\n",
    "cbar = fig.colorbar(pos, ticks=[0,1], orientation='horizontal')\n",
    "cbar.ax.set_xticklabels(['Not Debris', 'Debris'])  # horizontal colorbar\n",
    "plt.ylabel('Latitude [degrees]')\n",
    "plt.xlabel('Longitude [degrees]')\n",
    "cbar.ax.set_xlabel('Classification')\n",
    "plt.show()"
   ]
  },
  {
   "cell_type": "markdown",
   "id": "5a3ca56f-58fb-4833-8e5d-94db0e5e4224",
   "metadata": {},
   "source": [
    "## Mask Land"
   ]
  },
  {
   "cell_type": "code",
   "execution_count": null,
   "id": "e63272f2-b415-47e3-a58a-3465feca242d",
   "metadata": {},
   "outputs": [],
   "source": [
    "land = np.greater(SWIR1,BLU)\n",
    "res[land] = \"NaN\"\n",
    "\n",
    "fig, ax = plt.subplots(figsize=(8,8))\n",
    "ax.set_title('Combined Classification of Floating Objects')\n",
    "pos = ax.imshow(res, cmap=plt.get_cmap('Greys', 2), extent=extent)\n",
    "cbar = fig.colorbar(pos, ticks=[0,1], orientation='horizontal')\n",
    "cbar.ax.set_xticklabels(['Not Debris', 'Debris'])  # horizontal colorbar\n",
    "plt.ylabel('Latitude [degrees]')\n",
    "plt.xlabel('Longitude [degrees]')\n",
    "cbar.ax.set_xlabel('Classification')\n",
    "plt.show()"
   ]
  },
  {
   "cell_type": "markdown",
   "id": "7fdde6b0-6eb5-4fa8-8f27-826464aa5fd9",
   "metadata": {},
   "source": [
    "## Export Classification Raster"
   ]
  },
  {
   "cell_type": "code",
   "execution_count": null,
   "id": "1c31e4ae-afb5-4868-b25a-a7d9983b13fd",
   "metadata": {},
   "outputs": [],
   "source": [
    "# export raster\n",
    "with rasterio.open(output_folder+'classified.tiff', \n",
    "                   'w',driver='GTiff',height=res.shape[0],width=res.shape[1],\n",
    "                   count=1,dtype=res.dtype,crs=xda.rio.crs,nodata=\"NaN\",transform=data.transform) as dst:dst.write(res, 1)"
   ]
  },
  {
   "cell_type": "markdown",
   "id": "27d622fe-3281-485b-9925-8c21451876f5",
   "metadata": {},
   "source": [
    "***\n",
    "***\n",
    "# Module 3: Create Shapefile from Classified Areas\n",
    "Export classified areas as shapefiles.\n",
    "\n",
    "Package installation requirements:\n",
    "- Matplotlib (`matplotlib`): https://pypi.org/project/matplotlib/\n",
    "- NumPy (`numpy`): https://pypi.org/project/numpy/\n",
    "- Rasterio (`rasterio`): https://pypi.org/project/rasterio/\n",
    "- Xarray (`xarray`): https://pypi.org/project/xarray/0.8.0rc1/\n",
    "- Rasterio Xarray Extension (`rioxarray`): https://pypi.org/project/rioxarray/\n",
    "- Shapely (`shapely`): https://pypi.org/project/shapely/\n",
    "- Pandas (`pandas`): https://pypi.org/project/pandas/\n",
    "- GeoPandas (`geopandas`): https://pypi.org/project/geopandas/\n",
    "- Geocube (`geocube`): https://pypi.org/project/geocube/"
   ]
  },
  {
   "cell_type": "markdown",
   "id": "9d19165e-e5c4-4e68-9269-d954a8171456",
   "metadata": {},
   "source": [
    "***\n",
    "## User Input\n",
    "Define the key inputs for the module here:\n",
    "1. Path to the dataset.\n",
    "2. Data output path."
   ]
  },
  {
   "cell_type": "markdown",
   "id": "9e993a09-c590-4745-8328-72d063a3c7d5",
   "metadata": {},
   "source": [
    "### Path to Data"
   ]
  },
  {
   "cell_type": "code",
   "execution_count": null,
   "id": "6ef63ef7-93af-4e00-ad3a-8b20a70bd90f",
   "metadata": {},
   "outputs": [],
   "source": [
    "# define the path to the tiff output data from module 1 (or tiffs defined elsewhere)\n",
    "try:\n",
    "    req_id\n",
    "except NameError:\n",
    "    var_exists = False\n",
    "    path_to_tiff = ''\n",
    "else:\n",
    "    var_exists = True\n",
    "\n",
    "if var_exists:\n",
    "    print('Found request ID generated from Module 1: '+req_id)\n",
    "    path_to_tiff = f\n",
    "else:\n",
    "    if path_to_tiff == '':\n",
    "        path_to_tiff = input('Please define the path to the GeoTIFF:')\n",
    "    else:\n",
    "        print('Path to GeoTIFF has been defined.')"
   ]
  },
  {
   "cell_type": "markdown",
   "id": "a0991ab8-fbc8-4441-bd06-9b59c18f5d89",
   "metadata": {},
   "source": [
    "## Output Path"
   ]
  },
  {
   "cell_type": "code",
   "execution_count": null,
   "id": "0670347f-aa87-4f0f-ad05-431fe3661670",
   "metadata": {},
   "outputs": [],
   "source": [
    "output_folder = ''\n",
    "output_file = 'debris_outline.shp'"
   ]
  },
  {
   "cell_type": "markdown",
   "id": "4531a880-1223-4fde-92b4-cc6be84cfe8d",
   "metadata": {},
   "source": [
    "***\n",
    "## Load Packages and Define Functions"
   ]
  },
  {
   "cell_type": "code",
   "execution_count": null,
   "id": "3f10f4c8-33ad-4dff-8f19-4ed65542e64a",
   "metadata": {},
   "outputs": [],
   "source": [
    "import rasterio\n",
    "import matplotlib.pyplot as plt\n",
    "import numpy as np\n",
    "import xarray as xr\n",
    "import rioxarray\n",
    "from shapely.geometry import shape\n",
    "import geopandas as gpd\n",
    "import pandas as pd\n",
    "import shapely\n",
    "from geocube.vector import vectorize"
   ]
  },
  {
   "cell_type": "markdown",
   "id": "7e1d16e4-c894-4780-8e38-aabc55880669",
   "metadata": {},
   "source": [
    "## Load Data"
   ]
  },
  {
   "cell_type": "code",
   "execution_count": null,
   "id": "ebdab57a-fc96-4179-bcfc-0302ac54c24e",
   "metadata": {},
   "outputs": [],
   "source": [
    "# open tiff with rasterio\n",
    "xda = rioxarray.open_rasterio(path_to_tiff)\n",
    "print('GeoTIFF opened, '+str(len(xda.band))+' bands found.')\n",
    "\n",
    "# define the spatial extent\n",
    "lon = xda.x.data\n",
    "lat = xda.y.data\n",
    "extent = [np.min(lon), np.max(lon), np.max(lat), np.min(lat)]\n",
    "\n",
    "xda"
   ]
  },
  {
   "cell_type": "markdown",
   "id": "79e5789a-f0fa-47dc-98c8-a7fc60c4cd76",
   "metadata": {},
   "source": [
    "## Check Data"
   ]
  },
  {
   "cell_type": "code",
   "execution_count": null,
   "id": "16e6b5dc-4795-42e5-abaf-6d5fe81abb84",
   "metadata": {},
   "outputs": [],
   "source": [
    "fig, ax = plt.subplots(figsize=(8,8))\n",
    "ax.set_title('Combined Classification of Floating Objects')\n",
    "pos = ax.imshow(xda[0], cmap=plt.get_cmap('Greys', 2), extent=extent)\n",
    "cbar = fig.colorbar(pos, ticks=[0,1], orientation='horizontal')\n",
    "cbar.ax.set_xticklabels(['Not Debris', 'Debris'])  # horizontal colorbar\n",
    "plt.ylabel('Latitude [degrees]')\n",
    "plt.xlabel('Longitude [degrees]')\n",
    "cbar.ax.set_xlabel('Classification')\n",
    "plt.show()"
   ]
  },
  {
   "cell_type": "markdown",
   "id": "a3836603-88a6-4e16-a219-84e5da7a54be",
   "metadata": {},
   "source": [
    "## Create and Export Shapefile"
   ]
  },
  {
   "cell_type": "code",
   "execution_count": null,
   "id": "6a34aa24-e3d9-458e-9a69-181d5ed01e76",
   "metadata": {},
   "outputs": [],
   "source": [
    "# read data and convert to the correct format\n",
    "class_data = rioxarray.open_rasterio(path_to_tiff, mask_and_scale=True).squeeze()\n",
    "class_data.name = \"class\"\n",
    "class_data_i = class_data.astype(int)\n",
    "class_gdf = vectorize(class_data_i)"
   ]
  },
  {
   "cell_type": "code",
   "execution_count": null,
   "id": "88d603f1-8bf8-4184-a364-7802b3b88e51",
   "metadata": {},
   "outputs": [],
   "source": [
    "filtered_gdf = class_gdf[class_gdf['class'] == 1]\n",
    "filtered_gdf"
   ]
  },
  {
   "cell_type": "code",
   "execution_count": null,
   "id": "5326519a-46e3-4de0-a15e-96fe6a3734b3",
   "metadata": {},
   "outputs": [],
   "source": [
    "# export shapefile\n",
    "filtered_gdf.to_file(output_folder+output_file, driver='ESRI Shapefile') "
   ]
  }
 ],
 "metadata": {
  "kernelspec": {
   "display_name": "Python 3 (ipykernel)",
   "language": "python",
   "name": "python3"
  },
  "language_info": {
   "codemirror_mode": {
    "name": "ipython",
    "version": 3
   },
   "file_extension": ".py",
   "mimetype": "text/x-python",
   "name": "python",
   "nbconvert_exporter": "python",
   "pygments_lexer": "ipython3",
   "version": "3.12.3"
  }
 },
 "nbformat": 4,
 "nbformat_minor": 5
}
