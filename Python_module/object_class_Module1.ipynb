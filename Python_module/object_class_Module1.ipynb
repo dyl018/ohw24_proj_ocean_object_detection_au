{
 "cells": [
  {
   "cell_type": "markdown",
   "id": "b32082f3-6f3a-4c0f-8852-6ed5a51ca6c5",
   "metadata": {},
   "source": [
    "# Module 1: ROI Definition and Imagery Acquisition\n",
    "Define the region of interest (ROI), setup data access to Copernicus, and download the relevant imagery.\n",
    "\n",
    "1. SentinelHub must be installed: https://sentinelhub-py.readthedocs.io/en/latest/install.html\n",
    "2. Access must be provided to the Copernicus Data Space Ecosystem (CDSE): https://documentation.dataspace.copernicus.eu/APIs/SentinelHub/Overview/Authentication.html\n",
    "\n",
    "See Sentinel Hub Process API instructions for more details (https://sentinelhub-py.readthedocs.io/en/latest/examples/process_request_cdse.html#Credentials).v>\n",
    "\n",
    "Package installation requirements:\n",
    "- Matplotlib (`matplotlib`): https://pypi.org/project/matplotlib/\n",
    "- NumPy (`numpy`): https://pypi.org/project/numpy/\n",
    "- SentinelHub (`sentinelhub`): https://pypi.org/project/sentinelhub/"
   ]
  },
  {
   "cell_type": "markdown",
   "id": "ef742efb-e3db-474e-b67d-6de538f90460",
   "metadata": {},
   "source": [
    "***\n",
    "## User Input\n",
    "Define the key inputs for the module here:\n",
    "1. Region of interest (ROI) by defining minimum/maximum decimal latitude/longitude.\n",
    "2. Start and end time in the format: yyyy-mm-dd\n",
    "3. Data output location.\n",
    "4. Data access credentials."
   ]
  },
  {
   "cell_type": "markdown",
   "id": "98266578-6985-4057-81d2-7100cc8823ec",
   "metadata": {},
   "source": [
    "### Spatial/Temporal Extent"
   ]
  },
  {
   "cell_type": "code",
   "execution_count": null,
   "id": "0614e7db-b85e-4ffc-b0d2-d8b1b1f1cb83",
   "metadata": {},
   "outputs": [],
   "source": [
    "# decimal latitude and longitude extents\n",
    "# accra example\n",
    "latmin = 5.4219\n",
    "latmax = 5.5504\n",
    "lonmin = -0.3547\n",
    "lonmax = -0.1933\n",
    "\n",
    "# start and end times in yyyy-mm-dd format\n",
    "start_date = \"2018-10-31\" \n",
    "end_date = \"2018-11-01\""
   ]
  },
  {
   "cell_type": "markdown",
   "id": "2e700bbf-51eb-4866-b573-6150c3c77d8a",
   "metadata": {},
   "source": [
    "### Data Output Location"
   ]
  },
  {
   "cell_type": "code",
   "execution_count": null,
   "id": "5b45df67-b41c-4a38-a926-72707ce8e9d7",
   "metadata": {},
   "outputs": [],
   "source": [
    "# define output location for the generated .tiff\n",
    "output_folder = ''\n",
    "output_name = 'test' #output file name"
   ]
  },
  {
   "cell_type": "markdown",
   "id": "5171cbe3-1c72-4e0c-8335-a3724bb50107",
   "metadata": {},
   "source": [
    "### Define CDSE Credentials\n",
    "The **client ID** and **client secret** must be defined here to allow acces to the CDSE database. To do this, an OAuth client must be registered via the Sentinel Hub services dashboard (https://shapps.dataspace.copernicus.eu/dashboard/#/) to grant remote access to Copernicus. <br><br>For full instructions, visit: https://documentation.dataspace.copernicus.eu/APIs/SentinelHub/Overview/Authentication.html.\n",
    "<br><br>\n",
    "Provide the **client ID** and **client secret** as above. The **instance ID** is a string to describe the name of the authentication instance, which can be any relatively short string. The authentication profile can also be given a name to save for use later."
   ]
  },
  {
   "cell_type": "code",
   "execution_count": null,
   "id": "8c6c6937-e1ac-44a5-8a6a-5774e2f7d56a",
   "metadata": {},
   "outputs": [],
   "source": [
    "client_id = ''\n",
    "client_secret = ''\n",
    "instance_id = 'sentinelhub_cid'\n",
    "profile_name = 'test-profile'"
   ]
  },
  {
   "cell_type": "markdown",
   "id": "cdf5f798-44da-40c3-9bc8-c6ce93da7e9a",
   "metadata": {},
   "source": [
    "***"
   ]
  },
  {
   "cell_type": "markdown",
   "id": "9f0c0913-8588-4648-9731-45f32c8c1d25",
   "metadata": {},
   "source": [
    "## Load Packages and Define Functions"
   ]
  },
  {
   "cell_type": "code",
   "execution_count": null,
   "id": "0f3e1c6b-5759-469e-a0ee-74fc8544dd27",
   "metadata": {},
   "outputs": [],
   "source": [
    "from sentinelhub import WebFeatureService\n",
    "from sentinelhub import (\n",
    "    CRS, \n",
    "    BBox, \n",
    "    DataCollection, \n",
    "    SHConfig, \n",
    "    DownloadRequest,\n",
    "    MimeType, \n",
    "    MosaickingOrder, \n",
    "    SentinelHubDownloadClient,\n",
    "    SentinelHubRequest,\n",
    "    bbox_to_dimensions\n",
    ")\n",
    "import matplotlib.pyplot as plt\n",
    "import numpy as np\n",
    "from typing import Any\n",
    "import os"
   ]
  },
  {
   "cell_type": "code",
   "execution_count": null,
   "id": "76fa87e4-0fd3-4f87-8ee3-9d8f78b93489",
   "metadata": {},
   "outputs": [],
   "source": [
    "# define image plotting function to display acquired imagery (from https://sentinelhub-py.readthedocs.io/en/latest/index.html)\n",
    "def plot_image(\n",
    "    image: np.ndarray, factor: float = 1.0, clip_range: tuple[float, float] | None = None, **kwargs: Any\n",
    ") -> None:\n",
    "    _, ax = plt.subplots(nrows=1, ncols=1, figsize=(15, 15))\n",
    "    if clip_range is not None:\n",
    "        ax.imshow(np.clip(image * factor, *clip_range), **kwargs)\n",
    "    else:\n",
    "        ax.imshow(image * factor, **kwargs)\n",
    "    ax.set_xticks([])\n",
    "    ax.set_yticks([])"
   ]
  },
  {
   "cell_type": "markdown",
   "id": "7d04cd70-ee90-4b59-9a67-d73ce5231794",
   "metadata": {},
   "source": [
    "## Construct Config File"
   ]
  },
  {
   "cell_type": "code",
   "execution_count": null,
   "id": "2913c2fe-a0f7-47fe-aedc-7ad1f849bd81",
   "metadata": {},
   "outputs": [],
   "source": [
    "# define Copernicus Data Space Ecosystem (CDSE) profile\n",
    "config = SHConfig()\n",
    "config.sh_client_id = client_id\n",
    "config.sh_client_secret = client_secret\n",
    "config.sh_base_url = 'https://sh.dataspace.copernicus.eu'\n",
    "config.sh_token_url = 'https://identity.dataspace.copernicus.eu/auth/realms/CDSE/protocol/openid-connect/token'\n",
    "config.instance_id = instance_id\n",
    "config.save(profile_name)\n",
    "\n",
    "SHConfig.get_config_location()\n",
    "\n",
    "print(config)"
   ]
  },
  {
   "cell_type": "markdown",
   "id": "754b4631-0b14-4700-a342-f47a1711dccf",
   "metadata": {},
   "source": [
    "## Setup ROI and Time Range\n",
    "The ROI is defined using a bounding box, providing min/max extent for latitude and longitude as in the **User Input** section for Module 1."
   ]
  },
  {
   "cell_type": "code",
   "execution_count": null,
   "id": "0ceb20be-4b63-4026-be3f-cf6e6e4b441b",
   "metadata": {},
   "outputs": [],
   "source": [
    "req_coords_wgs84 = (lonmin, latmin, lonmax, latmax)\n",
    "resolution = 10\n",
    "req_bbox = BBox(bbox=req_coords_wgs84, crs=CRS.WGS84)\n",
    "req_size = bbox_to_dimensions(req_bbox, resolution=resolution)\n",
    "\n",
    "print(f\"Image shape at {resolution} m resolution: {req_size} pixels\")"
   ]
  },
  {
   "cell_type": "markdown",
   "id": "82714cff-53de-4542-8099-6648632d677f",
   "metadata": {},
   "source": [
    "## Download and Display True Colour Image at ROI\n",
    "The true colour image that covers the ROI is displayed here, for Sentinel-2 level 2A data."
   ]
  },
  {
   "cell_type": "code",
   "execution_count": null,
   "id": "b7a12f6d-8ce2-4af6-bd5e-ac74bab5c0b1",
   "metadata": {},
   "outputs": [],
   "source": [
    "# image acquisition script (from https://sentinelhub-py.readthedocs.io/en/latest/examples/process_request_cdse.html#Credentials)\n",
    "evalscript_true_color = \"\"\"\n",
    "    //VERSION=3\n",
    "\n",
    "    function setup() {\n",
    "        return {\n",
    "            input: [{\n",
    "                bands: [\"B02\", \"B03\", \"B04\"]\n",
    "            }],\n",
    "            output: {\n",
    "                bands: 3\n",
    "            }\n",
    "        };\n",
    "    }\n",
    "\n",
    "    function evaluatePixel(sample) {\n",
    "        return [sample.B04, sample.B03, sample.B02];\n",
    "    }\n",
    "\"\"\"\n",
    "\n",
    "request_true_color = SentinelHubRequest(\n",
    "    evalscript = evalscript_true_color,\n",
    "    input_data = [\n",
    "        SentinelHubRequest.input_data(\n",
    "            DataCollection.SENTINEL2_L2A.define_from(\"s2l2a\", service_url=config.sh_base_url),\n",
    "            time_interval=(start_date, end_date),\n",
    "        )\n",
    "    ],\n",
    "    responses = [SentinelHubRequest.output_response(\"default\", MimeType.PNG)],\n",
    "    bbox = req_bbox,\n",
    "    size = req_size,\n",
    "    config = config,\n",
    ")"
   ]
  },
  {
   "cell_type": "code",
   "execution_count": null,
   "id": "1cb9c298-ff90-4433-88e5-7e9fc0eed0ef",
   "metadata": {},
   "outputs": [],
   "source": [
    "%%time\n",
    "# request true colour image\n",
    "true_color_imgs = request_true_color.get_data()"
   ]
  },
  {
   "cell_type": "code",
   "execution_count": null,
   "id": "353b7ffd-2209-44e7-9afa-920d29401358",
   "metadata": {},
   "outputs": [],
   "source": [
    "image = true_color_imgs[0]\n",
    "\n",
    "# factor 1/255 to scale between 0-1\n",
    "# factor 3.5 to increase brightness\n",
    "plot_image(image, factor=3.5 / 255, clip_range=(0, 1))"
   ]
  },
  {
   "cell_type": "markdown",
   "id": "9a1f75d1-ed89-4bb6-8c71-ad713e1caaee",
   "metadata": {},
   "source": [
    "## Download and Display False Colour Image at ROI\n",
    "The false colour image that covers the ROI is displayed here, for Sentinel-2 level 2A data. The image is a mosaic of images collected over the specified date range."
   ]
  },
  {
   "cell_type": "code",
   "execution_count": null,
   "id": "e8432a65-dbc2-45d2-acc9-2ec7a0610ed7",
   "metadata": {},
   "outputs": [],
   "source": [
    "# image acquisition script (from https://sentinelhub-py.readthedocs.io/en/latest/examples/process_request_cdse.html#Credentials)\n",
    "evalscript_all_bands = \"\"\"\n",
    "    //VERSION=3\n",
    "    function setup() {\n",
    "        return {\n",
    "            input: [{\n",
    "                bands: [\"B01\",\"B02\",\"B03\",\"B04\",\"B05\",\"B06\",\"B07\",\"B08\",\"B8A\",\"B09\",\"B11\",\"B12\",\"SCL\"],\n",
    "                units: \"DN\"\n",
    "            }],\n",
    "            output: {\n",
    "                bands: 13,\n",
    "                sampleType: \"INT16\"\n",
    "            }\n",
    "        };\n",
    "    }\n",
    "\n",
    "    function evaluatePixel(sample) {\n",
    "        return [sample.B01,\n",
    "                sample.B02,\n",
    "                sample.B03,\n",
    "                sample.B04,\n",
    "                sample.B05,\n",
    "                sample.B06,\n",
    "                sample.B07,\n",
    "                sample.B08,\n",
    "                sample.B8A,\n",
    "                sample.B09,\n",
    "                sample.B11,\n",
    "                sample.B12,\n",
    "                sample.SCL];\n",
    "    }\n",
    "\"\"\"\n",
    "\n",
    "request_all_bands = SentinelHubRequest(\n",
    "    data_folder = output_folder,\n",
    "    evalscript = evalscript_all_bands,\n",
    "    input_data = [\n",
    "        SentinelHubRequest.input_data(\n",
    "            data_collection=DataCollection.SENTINEL2_L2A.define_from(\"s2l2a\", service_url=config.sh_base_url),\n",
    "            time_interval=(start_date, end_date),\n",
    "            mosaicking_order=MosaickingOrder.LEAST_CC,\n",
    "        )\n",
    "    ],\n",
    "    responses = [SentinelHubRequest.output_response(\"default\", MimeType.TIFF)],\n",
    "    bbox = req_bbox,\n",
    "    size = req_size,\n",
    "    config = config,\n",
    ")"
   ]
  },
  {
   "cell_type": "code",
   "execution_count": null,
   "id": "0b032b17-4665-4096-a8bf-0576b7b8b808",
   "metadata": {},
   "outputs": [],
   "source": [
    "%%time\n",
    "# request imagery with all bands\n",
    "all_bands_response = request_all_bands.get_data()"
   ]
  },
  {
   "cell_type": "code",
   "execution_count": null,
   "id": "71a042aa-2f59-44d4-9c8d-dece2b0e9144",
   "metadata": {},
   "outputs": [],
   "source": [
    "# plot false colour image using bands B03, B04, and B08\n",
    "plot_image(all_bands_response[0][:, :, [2, 3, 7]], factor=3.5/1e4, clip_range=(0, 1))"
   ]
  },
  {
   "cell_type": "markdown",
   "id": "017b9821-b610-4589-8416-bced69819aab",
   "metadata": {},
   "source": [
    "## Save Dataset\n",
    "Save the multispectral Sentinel-2 data as a GeoTIFF."
   ]
  },
  {
   "cell_type": "code",
   "execution_count": null,
   "id": "43241f1d-c1e1-4c0a-8f5e-6a6b508cd001",
   "metadata": {},
   "outputs": [],
   "source": [
    "%%time\n",
    "request_all_bands.save_data()\n",
    "\n",
    "for folder, _, filenames in os.walk(request_all_bands.data_folder):\n",
    "    for filename in filenames:\n",
    "        f = os.path.join(folder, filename)\n",
    "        comp = f.split('\\\\')\n",
    "        req_id = comp[-2] # request ID that is automatically generated\n",
    "\n",
    "print(\"Generated request ID: \"+req_id) # the request ID can be used to continue into Module 2"
   ]
  }
 ],
 "metadata": {
  "kernelspec": {
   "display_name": "Python 3 (ipykernel)",
   "language": "python",
   "name": "python3"
  },
  "language_info": {
   "codemirror_mode": {
    "name": "ipython",
    "version": 3
   },
   "file_extension": ".py",
   "mimetype": "text/x-python",
   "name": "python",
   "nbconvert_exporter": "python",
   "pygments_lexer": "ipython3",
   "version": "3.12.3"
  }
 },
 "nbformat": 4,
 "nbformat_minor": 5
}
