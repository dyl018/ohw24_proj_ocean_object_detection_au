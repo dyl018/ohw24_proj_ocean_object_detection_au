{
 "cells": [
  {
   "cell_type": "markdown",
   "id": "27d622fe-3281-485b-9925-8c21451876f5",
   "metadata": {},
   "source": [
    "# Module 3: Create Shapefile from Classified Areas\n",
    "Export classified areas as shapefiles.\n",
    "\n",
    "Package installation requirements:\n",
    "- Matplotlib (`matplotlib`): https://pypi.org/project/matplotlib/\n",
    "- NumPy (`numpy`): https://pypi.org/project/numpy/\n",
    "- Rasterio (`rasterio`): https://pypi.org/project/rasterio/\n",
    "- Xarray (`xarray`): https://pypi.org/project/xarray/0.8.0rc1/\n",
    "- Rasterio Xarray Extension (`rioxarray`): https://pypi.org/project/rioxarray/\n",
    "- Shapely (`shapely`): https://pypi.org/project/shapely/\n",
    "- Pandas (`pandas`): https://pypi.org/project/pandas/\n",
    "- GeoPandas (`geopandas`): https://pypi.org/project/geopandas/\n",
    "- Geocube (`geocube`): https://pypi.org/project/geocube/"
   ]
  },
  {
   "cell_type": "markdown",
   "id": "9d19165e-e5c4-4e68-9269-d954a8171456",
   "metadata": {},
   "source": [
    "***\n",
    "## User Input\n",
    "Define the key inputs for the module here:\n",
    "1. Path to the dataset.\n",
    "2. Data output path."
   ]
  },
  {
   "cell_type": "markdown",
   "id": "9e993a09-c590-4745-8328-72d063a3c7d5",
   "metadata": {},
   "source": [
    "### Path to Data"
   ]
  },
  {
   "cell_type": "code",
   "execution_count": null,
   "id": "6ef63ef7-93af-4e00-ad3a-8b20a70bd90f",
   "metadata": {},
   "outputs": [],
   "source": [
    "# define the path to the tiff output data from module 1 (or tiffs defined elsewhere)\n",
    "try:\n",
    "    req_id\n",
    "except NameError:\n",
    "    var_exists = False\n",
    "    path_to_tiff = ''\n",
    "else:\n",
    "    var_exists = True\n",
    "\n",
    "if var_exists:\n",
    "    print('Found request ID generated from Module 1: '+req_id)\n",
    "    path_to_tiff = f\n",
    "else:\n",
    "    if path_to_tiff == '':\n",
    "        path_to_tiff = input('Please define the path to the GeoTIFF:')\n",
    "    else:\n",
    "        print('Path to GeoTIFF has been defined.')"
   ]
  },
  {
   "cell_type": "markdown",
   "id": "a0991ab8-fbc8-4441-bd06-9b59c18f5d89",
   "metadata": {},
   "source": [
    "## Output Path"
   ]
  },
  {
   "cell_type": "code",
   "execution_count": null,
   "id": "0670347f-aa87-4f0f-ad05-431fe3661670",
   "metadata": {},
   "outputs": [],
   "source": [
    "output_folder = ''\n",
    "output_file = 'debris_outline.shp'"
   ]
  },
  {
   "cell_type": "markdown",
   "id": "4531a880-1223-4fde-92b4-cc6be84cfe8d",
   "metadata": {},
   "source": [
    "***\n",
    "## Load Packages and Define Functions"
   ]
  },
  {
   "cell_type": "code",
   "execution_count": null,
   "id": "3f10f4c8-33ad-4dff-8f19-4ed65542e64a",
   "metadata": {},
   "outputs": [],
   "source": [
    "import rasterio\n",
    "import matplotlib.pyplot as plt\n",
    "import numpy as np\n",
    "import xarray as xr\n",
    "import rioxarray\n",
    "from shapely.geometry import shape\n",
    "import geopandas as gpd\n",
    "import pandas as pd\n",
    "import shapely\n",
    "from geocube.vector import vectorize"
   ]
  },
  {
   "cell_type": "markdown",
   "id": "7e1d16e4-c894-4780-8e38-aabc55880669",
   "metadata": {},
   "source": [
    "## Load Data"
   ]
  },
  {
   "cell_type": "code",
   "execution_count": null,
   "id": "ebdab57a-fc96-4179-bcfc-0302ac54c24e",
   "metadata": {},
   "outputs": [],
   "source": [
    "# open tiff with rasterio\n",
    "xda = rioxarray.open_rasterio(path_to_tiff)\n",
    "print('GeoTIFF opened, '+str(len(xda.band))+' bands found.')\n",
    "\n",
    "# define the spatial extent\n",
    "lon = xda.x.data\n",
    "lat = xda.y.data\n",
    "extent = [np.min(lon), np.max(lon), np.max(lat), np.min(lat)]\n",
    "\n",
    "xda"
   ]
  },
  {
   "cell_type": "markdown",
   "id": "79e5789a-f0fa-47dc-98c8-a7fc60c4cd76",
   "metadata": {},
   "source": [
    "## Check Data"
   ]
  },
  {
   "cell_type": "code",
   "execution_count": null,
   "id": "16e6b5dc-4795-42e5-abaf-6d5fe81abb84",
   "metadata": {},
   "outputs": [],
   "source": [
    "fig, ax = plt.subplots(figsize=(8,8))\n",
    "ax.set_title('Combined Classification of Floating Objects')\n",
    "pos = ax.imshow(xda[0], cmap=plt.get_cmap('Greys', 2), extent=extent)\n",
    "cbar = fig.colorbar(pos, ticks=[0,1], orientation='horizontal')\n",
    "cbar.ax.set_xticklabels(['Not Debris', 'Debris'])  # horizontal colorbar\n",
    "plt.ylabel('Latitude [degrees]')\n",
    "plt.xlabel('Longitude [degrees]')\n",
    "cbar.ax.set_xlabel('Classification')\n",
    "plt.show()"
   ]
  },
  {
   "cell_type": "markdown",
   "id": "a3836603-88a6-4e16-a219-84e5da7a54be",
   "metadata": {},
   "source": [
    "## Create and Export Shapefile"
   ]
  },
  {
   "cell_type": "code",
   "execution_count": null,
   "id": "6a34aa24-e3d9-458e-9a69-181d5ed01e76",
   "metadata": {},
   "outputs": [],
   "source": [
    "# read data and convert to the correct format\n",
    "class_data = rioxarray.open_rasterio(path_to_tiff, mask_and_scale=True).squeeze()\n",
    "class_data.name = \"class\"\n",
    "class_data_i = class_data.astype(int)\n",
    "class_gdf = vectorize(class_data_i)"
   ]
  },
  {
   "cell_type": "code",
   "execution_count": null,
   "id": "88d603f1-8bf8-4184-a364-7802b3b88e51",
   "metadata": {},
   "outputs": [],
   "source": [
    "filtered_gdf = class_gdf[class_gdf['class'] == 1]\n",
    "filtered_gdf"
   ]
  },
  {
   "cell_type": "code",
   "execution_count": null,
   "id": "5326519a-46e3-4de0-a15e-96fe6a3734b3",
   "metadata": {},
   "outputs": [],
   "source": [
    "# export shapefile\n",
    "filtered_gdf.to_file(output_folder+output_file, driver='ESRI Shapefile') "
   ]
  }
 ],
 "metadata": {
  "kernelspec": {
   "display_name": "Python 3 (ipykernel)",
   "language": "python",
   "name": "python3"
  },
  "language_info": {
   "codemirror_mode": {
    "name": "ipython",
    "version": 3
   },
   "file_extension": ".py",
   "mimetype": "text/x-python",
   "name": "python",
   "nbconvert_exporter": "python",
   "pygments_lexer": "ipython3",
   "version": "3.12.3"
  }
 },
 "nbformat": 4,
 "nbformat_minor": 5
}
